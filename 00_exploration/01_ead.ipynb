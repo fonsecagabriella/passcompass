{
 "cells": [
  {
   "cell_type": "markdown",
   "id": "4742393b",
   "metadata": {},
   "source": [
    "# Exploratory Data Analysis"
   ]
  },
  {
   "cell_type": "code",
   "execution_count": 11,
   "id": "dacb78d5",
   "metadata": {},
   "outputs": [
    {
     "name": "stdout",
     "output_type": "stream",
     "text": [
      "Downloading and extracting...\n",
      "\n",
      "Files in data directory:\n",
      "- .student.zip_old\n",
      "- student.zip\n",
      "Extracting student.zip...\n",
      "\n",
      "Final contents of data directory:\n",
      "- student-por.csv\n",
      "- student-merge.R\n",
      "- .student.zip_old\n",
      "- student-mat.csv\n",
      "- student.txt\n"
     ]
    }
   ],
   "source": [
    "# 1 Setup ───────────────────────────────────────────────────────────────────────\n",
    "import pathlib, urllib.request, zipfile, io\n",
    "import pandas as pd\n",
    "import numpy as np\n",
    "import matplotlib.pyplot as plt\n",
    "import seaborn as sns\n",
    "from sklearn.model_selection import train_test_split, cross_val_score\n",
    "from sklearn.preprocessing import OneHotEncoder\n",
    "from sklearn.compose import ColumnTransformer\n",
    "from sklearn.pipeline import Pipeline\n",
    "from sklearn.linear_model import LogisticRegression\n",
    "from sklearn.metrics import classification_report, roc_auc_score\n",
    "\n",
    "plt.style.use(\"default\")\n",
    "sns.set_context(\"notebook\")\n",
    "\n",
    "DATA_DIR = pathlib.Path(\"../data/students\")\n",
    "DATA_DIR.mkdir(parents=True, exist_ok=True)\n",
    "\n",
    "# 2 Download & load ────────────────────────────────────────────────────────────\n",
    "UCI_URL = \"https://archive.ics.uci.edu/static/public/320/student+performance.zip\"\n",
    "\n",
    "print(\"Downloading and extracting...\")\n",
    "\n",
    "# Download and extract the main zip file\n",
    "with urllib.request.urlopen(UCI_URL) as resp:\n",
    "    with zipfile.ZipFile(io.BytesIO(resp.read())) as zf:\n",
    "        zf.extractall(DATA_DIR)\n",
    "\n",
    "# Now let's check what we have\n",
    "print(\"\\nFiles in data directory:\")\n",
    "for file in DATA_DIR.glob(\"*\"):\n",
    "    print(f\"- {file.name}\")\n",
    "    # If we find any zip files, extract them\n",
    "    if file.suffix == '.zip':\n",
    "        print(f\"Extracting {file.name}...\")\n",
    "        with zipfile.ZipFile(file) as zf:\n",
    "            zf.extractall(DATA_DIR)\n",
    "        # Remove the zip file after extraction\n",
    "        file.unlink()\n",
    "\n",
    "print(\"\\nFinal contents of data directory:\")\n",
    "for file in DATA_DIR.glob(\"*\"):\n",
    "    print(f\"- {file.name}\")\n"
   ]
  },
  {
   "cell_type": "code",
   "execution_count": null,
   "id": "78a9fcb9",
   "metadata": {},
   "outputs": [
    {
     "name": "stdout",
     "output_type": "stream",
     "text": [
      "Combined shape: (1044, 34)\n"
     ]
    },
    {
     "data": {
      "text/html": [
       "<div>\n",
       "<style scoped>\n",
       "    .dataframe tbody tr th:only-of-type {\n",
       "        vertical-align: middle;\n",
       "    }\n",
       "\n",
       "    .dataframe tbody tr th {\n",
       "        vertical-align: top;\n",
       "    }\n",
       "\n",
       "    .dataframe thead th {\n",
       "        text-align: right;\n",
       "    }\n",
       "</style>\n",
       "<table border=\"1\" class=\"dataframe\">\n",
       "  <thead>\n",
       "    <tr style=\"text-align: right;\">\n",
       "      <th></th>\n",
       "      <th>school</th>\n",
       "      <th>sex</th>\n",
       "      <th>age</th>\n",
       "      <th>address</th>\n",
       "      <th>famsize</th>\n",
       "      <th>Pstatus</th>\n",
       "      <th>Medu</th>\n",
       "      <th>Fedu</th>\n",
       "      <th>Mjob</th>\n",
       "      <th>Fjob</th>\n",
       "      <th>...</th>\n",
       "      <th>freetime</th>\n",
       "      <th>goout</th>\n",
       "      <th>Dalc</th>\n",
       "      <th>Walc</th>\n",
       "      <th>health</th>\n",
       "      <th>absences</th>\n",
       "      <th>G1</th>\n",
       "      <th>G2</th>\n",
       "      <th>G3</th>\n",
       "      <th>course</th>\n",
       "    </tr>\n",
       "  </thead>\n",
       "  <tbody>\n",
       "    <tr>\n",
       "      <th>0</th>\n",
       "      <td>GP</td>\n",
       "      <td>F</td>\n",
       "      <td>18</td>\n",
       "      <td>U</td>\n",
       "      <td>GT3</td>\n",
       "      <td>A</td>\n",
       "      <td>4</td>\n",
       "      <td>4</td>\n",
       "      <td>at_home</td>\n",
       "      <td>teacher</td>\n",
       "      <td>...</td>\n",
       "      <td>3</td>\n",
       "      <td>4</td>\n",
       "      <td>1</td>\n",
       "      <td>1</td>\n",
       "      <td>3</td>\n",
       "      <td>6</td>\n",
       "      <td>5</td>\n",
       "      <td>6</td>\n",
       "      <td>6</td>\n",
       "      <td>math</td>\n",
       "    </tr>\n",
       "    <tr>\n",
       "      <th>1</th>\n",
       "      <td>GP</td>\n",
       "      <td>F</td>\n",
       "      <td>17</td>\n",
       "      <td>U</td>\n",
       "      <td>GT3</td>\n",
       "      <td>T</td>\n",
       "      <td>1</td>\n",
       "      <td>1</td>\n",
       "      <td>at_home</td>\n",
       "      <td>other</td>\n",
       "      <td>...</td>\n",
       "      <td>3</td>\n",
       "      <td>3</td>\n",
       "      <td>1</td>\n",
       "      <td>1</td>\n",
       "      <td>3</td>\n",
       "      <td>4</td>\n",
       "      <td>5</td>\n",
       "      <td>5</td>\n",
       "      <td>6</td>\n",
       "      <td>math</td>\n",
       "    </tr>\n",
       "    <tr>\n",
       "      <th>2</th>\n",
       "      <td>GP</td>\n",
       "      <td>F</td>\n",
       "      <td>15</td>\n",
       "      <td>U</td>\n",
       "      <td>LE3</td>\n",
       "      <td>T</td>\n",
       "      <td>1</td>\n",
       "      <td>1</td>\n",
       "      <td>at_home</td>\n",
       "      <td>other</td>\n",
       "      <td>...</td>\n",
       "      <td>3</td>\n",
       "      <td>2</td>\n",
       "      <td>2</td>\n",
       "      <td>3</td>\n",
       "      <td>3</td>\n",
       "      <td>10</td>\n",
       "      <td>7</td>\n",
       "      <td>8</td>\n",
       "      <td>10</td>\n",
       "      <td>math</td>\n",
       "    </tr>\n",
       "    <tr>\n",
       "      <th>3</th>\n",
       "      <td>GP</td>\n",
       "      <td>F</td>\n",
       "      <td>15</td>\n",
       "      <td>U</td>\n",
       "      <td>GT3</td>\n",
       "      <td>T</td>\n",
       "      <td>4</td>\n",
       "      <td>2</td>\n",
       "      <td>health</td>\n",
       "      <td>services</td>\n",
       "      <td>...</td>\n",
       "      <td>2</td>\n",
       "      <td>2</td>\n",
       "      <td>1</td>\n",
       "      <td>1</td>\n",
       "      <td>5</td>\n",
       "      <td>2</td>\n",
       "      <td>15</td>\n",
       "      <td>14</td>\n",
       "      <td>15</td>\n",
       "      <td>math</td>\n",
       "    </tr>\n",
       "    <tr>\n",
       "      <th>4</th>\n",
       "      <td>GP</td>\n",
       "      <td>F</td>\n",
       "      <td>16</td>\n",
       "      <td>U</td>\n",
       "      <td>GT3</td>\n",
       "      <td>T</td>\n",
       "      <td>3</td>\n",
       "      <td>3</td>\n",
       "      <td>other</td>\n",
       "      <td>other</td>\n",
       "      <td>...</td>\n",
       "      <td>3</td>\n",
       "      <td>2</td>\n",
       "      <td>1</td>\n",
       "      <td>2</td>\n",
       "      <td>5</td>\n",
       "      <td>4</td>\n",
       "      <td>6</td>\n",
       "      <td>10</td>\n",
       "      <td>10</td>\n",
       "      <td>math</td>\n",
       "    </tr>\n",
       "  </tbody>\n",
       "</table>\n",
       "<p>5 rows × 34 columns</p>\n",
       "</div>"
      ],
      "text/plain": [
       "  school sex  age address famsize Pstatus  Medu  Fedu     Mjob      Fjob  ...  \\\n",
       "0     GP   F   18       U     GT3       A     4     4  at_home   teacher  ...   \n",
       "1     GP   F   17       U     GT3       T     1     1  at_home     other  ...   \n",
       "2     GP   F   15       U     LE3       T     1     1  at_home     other  ...   \n",
       "3     GP   F   15       U     GT3       T     4     2   health  services  ...   \n",
       "4     GP   F   16       U     GT3       T     3     3    other     other  ...   \n",
       "\n",
       "  freetime goout  Dalc  Walc  health absences  G1  G2  G3 course  \n",
       "0        3     4     1     1       3        6   5   6   6   math  \n",
       "1        3     3     1     1       3        4   5   5   6   math  \n",
       "2        3     2     2     3       3       10   7   8  10   math  \n",
       "3        2     2     1     1       5        2  15  14  15   math  \n",
       "4        3     2     1     2       5        4   6  10  10   math  \n",
       "\n",
       "[5 rows x 34 columns]"
      ]
     },
     "execution_count": 12,
     "metadata": {},
     "output_type": "execute_result"
    }
   ],
   "source": [
    "math_df = pd.read_csv(DATA_DIR / \"student-mat.csv\", sep=\";\")\n",
    "por_df  = pd.read_csv(DATA_DIR / \"student-por.csv\", sep=\";\")\n",
    "\n",
    "# add course tag before concatenation\n",
    "math_df[\"course\"] = \"math\"\n",
    "por_df[\"course\"]  = \"por\"\n",
    "\n",
    "students = pd.concat([math_df, por_df], ignore_index=True)\n",
    "\n",
    "print(f\"Combined shape: {students.shape}\")\n",
    "\n",
    "students.head()"
   ]
  },
  {
   "cell_type": "code",
   "execution_count": 13,
   "id": "56a80f88",
   "metadata": {},
   "outputs": [
    {
     "name": "stdout",
     "output_type": "stream",
     "text": [
      "pass\n",
      "1    814\n",
      "0    230\n",
      "Name: count, dtype: int64\n"
     ]
    }
   ],
   "source": [
    "# 3 Feature engineering ────────────────────────────────────────────────────────\n",
    "# Create binary target: pass if final grade (G3) ≥ 10 out of 20\n",
    "students[\"pass\"] = (students[\"G3\"] >= 10).astype(int)\n",
    "\n",
    "# Drop raw grade columns to make prediction \"harder\"\n",
    "students = students.drop(columns=[\"G1\", \"G2\", \"G3\"])\n",
    "\n",
    "print(students[\"pass\"].value_counts())\n"
   ]
  },
  {
   "cell_type": "code",
   "execution_count": 15,
   "id": "4ca9ae75",
   "metadata": {},
   "outputs": [
    {
     "data": {
      "image/png": "[encoded data removed]",
      "text/plain": [
       "<Figure size 400x400 with 1 Axes>"
      ]
     },
     "metadata": {},
     "output_type": "display_data"
    },
    {
     "data": {
      "image/png": "[encoded data removed]",
      "text/plain": [
       "<Figure size 800x600 with 2 Axes>"
      ]
     },
     "metadata": {},
     "output_type": "display_data"
    }
   ],
   "source": [
    "# 4 Exploratory plots ─────────────────────────────────────────────────────────\n",
    "plt.figure(figsize=(4, 4))\n",
    "students[\"pass\"].value_counts().plot.pie(\n",
    "    labels=[\"pass\", \"fail\"], autopct=\"%1.1f%%\", startangle=90\n",
    ")\n",
    "plt.title(\"Class balance\")\n",
    "plt.ylabel(\"\")\n",
    "plt.show()\n",
    "\n",
    "# Numerical correlation heat-map\n",
    "num_cols = students.select_dtypes(\"number\").columns\n",
    "plt.figure(figsize=(8, 6))\n",
    "sns.heatmap(students[num_cols].corr(), cmap=\"coolwarm\", center=0, annot=False)\n",
    "plt.title(\"Numeric feature correlation\")\n",
    "plt.tight_layout()\n"
   ]
  },
  {
   "cell_type": "code",
   "execution_count": 16,
   "id": "45b71f95",
   "metadata": {},
   "outputs": [
    {
     "name": "stdout",
     "output_type": "stream",
     "text": [
      "Baseline ROC-AUC (5-fold): 0.709 ± 0.076\n"
     ]
    }
   ],
   "source": [
    "# 5 Baseline model ────────────────────────────────────────────────────────────\n",
    "X = students.drop(columns=\"pass\")\n",
    "y = students[\"pass\"]\n",
    "\n",
    "# Identify categorical vs numeric columns\n",
    "cat_cols = X.select_dtypes(\"object\").columns.tolist()\n",
    "num_cols = X.select_dtypes(\"number\").columns.tolist()\n",
    "\n",
    "preprocess = ColumnTransformer(\n",
    "    [(\"cat\", OneHotEncoder(handle_unknown=\"ignore\"), cat_cols)],\n",
    "    remainder=\"passthrough\"\n",
    ")\n",
    "\n",
    "clf = Pipeline(\n",
    "    steps=[\n",
    "        (\"prep\", preprocess),\n",
    "        (\"logreg\", LogisticRegression(max_iter=1000, solver=\"lbfgs\"))\n",
    "    ]\n",
    ")\n",
    "\n",
    "scores = cross_val_score(clf, X, y, cv=5, scoring=\"roc_auc\")\n",
    "print(f\"Baseline ROC-AUC (5-fold): {scores.mean():.3f} ± {scores.std():.3f}\")\n"
   ]
  },
  {
   "cell_type": "code",
   "execution_count": 17,
   "id": "73e1e419",
   "metadata": {},
   "outputs": [
    {
     "name": "stdout",
     "output_type": "stream",
     "text": [
      "              precision    recall  f1-score   support\n",
      "\n",
      "        Fail       0.46      0.24      0.31        46\n",
      "        Pass       0.81      0.92      0.86       163\n",
      "\n",
      "    accuracy                           0.77       209\n",
      "   macro avg       0.63      0.58      0.59       209\n",
      "weighted avg       0.73      0.77      0.74       209\n",
      "\n",
      "Hold-out ROC-AUC: 0.733\n"
     ]
    }
   ],
   "source": [
    "# 6 Train/test split & report ────────────────────────────────────────────────\n",
    "X_train, X_test, y_train, y_test = train_test_split(\n",
    "    X, y, test_size=0.2, stratify=y, random_state=42\n",
    ")\n",
    "clf.fit(X_train, y_train)\n",
    "\n",
    "y_pred = clf.predict(X_test)\n",
    "print(classification_report(y_test, y_pred, target_names=[\"Fail\", \"Pass\"]))\n",
    "\n",
    "# Optional ROC-AUC on hold-out\n",
    "y_proba = clf.predict_proba(X_test)[:, 1]\n",
    "print(\"Hold-out ROC-AUC:\", roc_auc_score(y_test, y_proba).round(3))\n"
   ]
  },
  {
   "cell_type": "code",
   "execution_count": 18,
   "id": "197bf77c",
   "metadata": {},
   "outputs": [
    {
     "name": "stdout",
     "output_type": "stream",
     "text": [
      "Saved: students/students_clean.csv\n"
     ]
    }
   ],
   "source": [
    "# 7 Save clean dataset for later notebooks ────────────────────────────────────\n",
    "CLEAN_PATH = DATA_DIR / \"students_clean.csv\"\n",
    "\n",
    "students.to_csv(CLEAN_PATH, index=False)\n",
    "\n",
    "print(\"Saved:\", CLEAN_PATH.relative_to(DATA_DIR.parent))\n"
   ]
  },
  {
   "cell_type": "markdown",
   "id": "e2678ffa",
   "metadata": {},
   "source": [
    "At this point, I have some sense of the data.\n",
    "However I would like to explore it more. To do so, I will be creating a hold-out test set now and never peeking at it again.\n",
    "This is the single best safeguard against “optimism bias”."
   ]
  },
  {
   "cell_type": "code",
   "execution_count": 19,
   "id": "58f2624c",
   "metadata": {},
   "outputs": [
    {
     "name": "stdout",
     "output_type": "stream",
     "text": [
      "Saved students/students_train.csv  (835 rows)\n",
      "Saved students/students_test.csv   (209 rows)\n"
     ]
    }
   ],
   "source": [
    "# 8 Save train/test splits for later notebooks ─────────────────────────────────\n",
    "\n",
    "# Re-attach target column for easy CSV export\n",
    "train_df = X_train.copy()\n",
    "train_df[\"pass\"] = y_train\n",
    "test_df  = X_test.copy()\n",
    "test_df[\"pass\"]  = y_test\n",
    "\n",
    "DATA_DIR = pathlib.Path(\"../data/students\")\n",
    "train_path = DATA_DIR / \"students_train.csv\"\n",
    "test_path  = DATA_DIR / \"students_test.csv\"\n",
    "\n",
    "train_df.to_csv(train_path, index=False)\n",
    "test_df.to_csv(test_path,  index=False)\n",
    "\n",
    "print(f\"Saved {train_path.relative_to(DATA_DIR.parent)}  ({len(train_df)} rows)\")\n",
    "print(f\"Saved {test_path.relative_to(DATA_DIR.parent)}   ({len(test_df)} rows)\")"
   ]
  }
 ],
 "metadata": {
  "kernelspec": {
   "display_name": "passcompass-ml",
   "language": "python",
   "name": "python3"
  },
  "language_info": {
   "codemirror_mode": {
    "name": "ipython",
    "version": 3
   },
   "file_extension": ".py",
   "mimetype": "text/x-python",
   "name": "python",
   "nbconvert_exporter": "python",
   "pygments_lexer": "ipython3",
   "version": "3.10.17"
  }
 },
 "nbformat": 4,
 "nbformat_minor": 5
}
